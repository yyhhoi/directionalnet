{
 "cells": [
  {
   "cell_type": "code",
   "execution_count": 1,
   "outputs": [
    {
     "name": "stdout",
     "output_type": "stream",
     "text": [
      "in\n",
      "Current cycle 34"
     ]
    },
    {
     "ename": "KeyboardInterrupt",
     "evalue": "",
     "output_type": "error",
     "traceback": [
      "\u001B[1;31m---------------------------------------------------------------------------\u001B[0m",
      "\u001B[1;31mKeyboardInterrupt\u001B[0m                         Traceback (most recent call last)",
      "Input \u001B[1;32mIn [1]\u001B[0m, in \u001B[0;36m<cell line: 22>\u001B[1;34m()\u001B[0m\n\u001B[0;32m     97\u001B[0m data_MN \u001B[38;5;241m=\u001B[39m []\n\u001B[0;32m     98\u001B[0m \u001B[38;5;28;01mfor\u001B[39;00m nidx \u001B[38;5;129;01min\u001B[39;00m all_nidx:\n\u001B[1;32m---> 99\u001B[0m     spdf_MN \u001B[38;5;241m=\u001B[39m \u001B[43mspdf_M\u001B[49m\u001B[43m[\u001B[49m\u001B[43mspdf_M\u001B[49m\u001B[43m[\u001B[49m\u001B[38;5;124;43m'\u001B[39;49m\u001B[38;5;124;43mneuronid\u001B[39;49m\u001B[38;5;124;43m'\u001B[39;49m\u001B[43m]\u001B[49m\u001B[43m \u001B[49m\u001B[38;5;241;43m==\u001B[39;49m\u001B[43m \u001B[49m\u001B[43mnidx\u001B[49m\u001B[43m]\u001B[49m\n\u001B[0;32m    100\u001B[0m     tsp \u001B[38;5;241m=\u001B[39m spdf_MN[\u001B[38;5;124m'\u001B[39m\u001B[38;5;124mtsp\u001B[39m\u001B[38;5;124m'\u001B[39m]\u001B[38;5;241m.\u001B[39mto_numpy() \u001B[38;5;241m-\u001B[39m theta_tstart\n\u001B[0;32m    101\u001B[0m     data_MN\u001B[38;5;241m.\u001B[39mappend(tsp)\n",
      "File \u001B[1;32m~\\anaconda3\\lib\\site-packages\\pandas\\core\\frame.py:3496\u001B[0m, in \u001B[0;36mDataFrame.__getitem__\u001B[1;34m(self, key)\u001B[0m\n\u001B[0;32m   3494\u001B[0m \u001B[38;5;66;03m# Do we have a (boolean) 1d indexer?\u001B[39;00m\n\u001B[0;32m   3495\u001B[0m \u001B[38;5;28;01mif\u001B[39;00m com\u001B[38;5;241m.\u001B[39mis_bool_indexer(key):\n\u001B[1;32m-> 3496\u001B[0m     \u001B[38;5;28;01mreturn\u001B[39;00m \u001B[38;5;28;43mself\u001B[39;49m\u001B[38;5;241;43m.\u001B[39;49m\u001B[43m_getitem_bool_array\u001B[49m\u001B[43m(\u001B[49m\u001B[43mkey\u001B[49m\u001B[43m)\u001B[49m\n\u001B[0;32m   3498\u001B[0m \u001B[38;5;66;03m# We are left with two options: a single key, and a collection of keys,\u001B[39;00m\n\u001B[0;32m   3499\u001B[0m \u001B[38;5;66;03m# We interpret tuples as collections only for non-MultiIndex\u001B[39;00m\n\u001B[0;32m   3500\u001B[0m is_single_key \u001B[38;5;241m=\u001B[39m \u001B[38;5;28misinstance\u001B[39m(key, \u001B[38;5;28mtuple\u001B[39m) \u001B[38;5;129;01mor\u001B[39;00m \u001B[38;5;129;01mnot\u001B[39;00m is_list_like(key)\n",
      "File \u001B[1;32m~\\anaconda3\\lib\\site-packages\\pandas\\core\\frame.py:3551\u001B[0m, in \u001B[0;36mDataFrame._getitem_bool_array\u001B[1;34m(self, key)\u001B[0m\n\u001B[0;32m   3549\u001B[0m key \u001B[38;5;241m=\u001B[39m check_bool_indexer(\u001B[38;5;28mself\u001B[39m\u001B[38;5;241m.\u001B[39mindex, key)\n\u001B[0;32m   3550\u001B[0m indexer \u001B[38;5;241m=\u001B[39m key\u001B[38;5;241m.\u001B[39mnonzero()[\u001B[38;5;241m0\u001B[39m]\n\u001B[1;32m-> 3551\u001B[0m \u001B[38;5;28;01mreturn\u001B[39;00m \u001B[38;5;28;43mself\u001B[39;49m\u001B[38;5;241;43m.\u001B[39;49m\u001B[43m_take_with_is_copy\u001B[49m\u001B[43m(\u001B[49m\u001B[43mindexer\u001B[49m\u001B[43m,\u001B[49m\u001B[43m \u001B[49m\u001B[43maxis\u001B[49m\u001B[38;5;241;43m=\u001B[39;49m\u001B[38;5;241;43m0\u001B[39;49m\u001B[43m)\u001B[49m\n",
      "File \u001B[1;32m~\\anaconda3\\lib\\site-packages\\pandas\\core\\generic.py:3716\u001B[0m, in \u001B[0;36mNDFrame._take_with_is_copy\u001B[1;34m(self, indices, axis)\u001B[0m\n\u001B[0;32m   3708\u001B[0m \u001B[38;5;28;01mdef\u001B[39;00m \u001B[38;5;21m_take_with_is_copy\u001B[39m(\u001B[38;5;28mself\u001B[39m: NDFrameT, indices, axis\u001B[38;5;241m=\u001B[39m\u001B[38;5;241m0\u001B[39m) \u001B[38;5;241m-\u001B[39m\u001B[38;5;241m>\u001B[39m NDFrameT:\n\u001B[0;32m   3709\u001B[0m     \u001B[38;5;124;03m\"\"\"\u001B[39;00m\n\u001B[0;32m   3710\u001B[0m \u001B[38;5;124;03m    Internal version of the `take` method that sets the `_is_copy`\u001B[39;00m\n\u001B[0;32m   3711\u001B[0m \u001B[38;5;124;03m    attribute to keep track of the parent dataframe (using in indexing\u001B[39;00m\n\u001B[1;32m   (...)\u001B[0m\n\u001B[0;32m   3714\u001B[0m \u001B[38;5;124;03m    See the docstring of `take` for full explanation of the parameters.\u001B[39;00m\n\u001B[0;32m   3715\u001B[0m \u001B[38;5;124;03m    \"\"\"\u001B[39;00m\n\u001B[1;32m-> 3716\u001B[0m     result \u001B[38;5;241m=\u001B[39m \u001B[38;5;28;43mself\u001B[39;49m\u001B[38;5;241;43m.\u001B[39;49m\u001B[43mtake\u001B[49m\u001B[43m(\u001B[49m\u001B[43mindices\u001B[49m\u001B[38;5;241;43m=\u001B[39;49m\u001B[43mindices\u001B[49m\u001B[43m,\u001B[49m\u001B[43m \u001B[49m\u001B[43maxis\u001B[49m\u001B[38;5;241;43m=\u001B[39;49m\u001B[43maxis\u001B[49m\u001B[43m)\u001B[49m\n\u001B[0;32m   3717\u001B[0m     \u001B[38;5;66;03m# Maybe set copy if we didn't actually change the index.\u001B[39;00m\n\u001B[0;32m   3718\u001B[0m     \u001B[38;5;28;01mif\u001B[39;00m \u001B[38;5;129;01mnot\u001B[39;00m result\u001B[38;5;241m.\u001B[39m_get_axis(axis)\u001B[38;5;241m.\u001B[39mequals(\u001B[38;5;28mself\u001B[39m\u001B[38;5;241m.\u001B[39m_get_axis(axis)):\n",
      "File \u001B[1;32m~\\anaconda3\\lib\\site-packages\\pandas\\core\\generic.py:3703\u001B[0m, in \u001B[0;36mNDFrame.take\u001B[1;34m(self, indices, axis, is_copy, **kwargs)\u001B[0m\n\u001B[0;32m   3699\u001B[0m nv\u001B[38;5;241m.\u001B[39mvalidate_take((), kwargs)\n\u001B[0;32m   3701\u001B[0m \u001B[38;5;28mself\u001B[39m\u001B[38;5;241m.\u001B[39m_consolidate_inplace()\n\u001B[1;32m-> 3703\u001B[0m new_data \u001B[38;5;241m=\u001B[39m \u001B[38;5;28;43mself\u001B[39;49m\u001B[38;5;241;43m.\u001B[39;49m\u001B[43m_mgr\u001B[49m\u001B[38;5;241;43m.\u001B[39;49m\u001B[43mtake\u001B[49m\u001B[43m(\u001B[49m\n\u001B[0;32m   3704\u001B[0m \u001B[43m    \u001B[49m\u001B[43mindices\u001B[49m\u001B[43m,\u001B[49m\u001B[43m \u001B[49m\u001B[43maxis\u001B[49m\u001B[38;5;241;43m=\u001B[39;49m\u001B[38;5;28;43mself\u001B[39;49m\u001B[38;5;241;43m.\u001B[39;49m\u001B[43m_get_block_manager_axis\u001B[49m\u001B[43m(\u001B[49m\u001B[43maxis\u001B[49m\u001B[43m)\u001B[49m\u001B[43m,\u001B[49m\u001B[43m \u001B[49m\u001B[43mverify\u001B[49m\u001B[38;5;241;43m=\u001B[39;49m\u001B[38;5;28;43;01mTrue\u001B[39;49;00m\n\u001B[0;32m   3705\u001B[0m \u001B[43m\u001B[49m\u001B[43m)\u001B[49m\n\u001B[0;32m   3706\u001B[0m \u001B[38;5;28;01mreturn\u001B[39;00m \u001B[38;5;28mself\u001B[39m\u001B[38;5;241m.\u001B[39m_constructor(new_data)\u001B[38;5;241m.\u001B[39m__finalize__(\u001B[38;5;28mself\u001B[39m, method\u001B[38;5;241m=\u001B[39m\u001B[38;5;124m\"\u001B[39m\u001B[38;5;124mtake\u001B[39m\u001B[38;5;124m\"\u001B[39m)\n",
      "File \u001B[1;32m~\\anaconda3\\lib\\site-packages\\pandas\\core\\internals\\managers.py:900\u001B[0m, in \u001B[0;36mBaseBlockManager.take\u001B[1;34m(self, indexer, axis, verify)\u001B[0m\n\u001B[0;32m    897\u001B[0m indexer \u001B[38;5;241m=\u001B[39m maybe_convert_indices(indexer, n, verify\u001B[38;5;241m=\u001B[39mverify)\n\u001B[0;32m    899\u001B[0m new_labels \u001B[38;5;241m=\u001B[39m \u001B[38;5;28mself\u001B[39m\u001B[38;5;241m.\u001B[39maxes[axis]\u001B[38;5;241m.\u001B[39mtake(indexer)\n\u001B[1;32m--> 900\u001B[0m \u001B[38;5;28;01mreturn\u001B[39;00m \u001B[38;5;28;43mself\u001B[39;49m\u001B[38;5;241;43m.\u001B[39;49m\u001B[43mreindex_indexer\u001B[49m\u001B[43m(\u001B[49m\n\u001B[0;32m    901\u001B[0m \u001B[43m    \u001B[49m\u001B[43mnew_axis\u001B[49m\u001B[38;5;241;43m=\u001B[39;49m\u001B[43mnew_labels\u001B[49m\u001B[43m,\u001B[49m\n\u001B[0;32m    902\u001B[0m \u001B[43m    \u001B[49m\u001B[43mindexer\u001B[49m\u001B[38;5;241;43m=\u001B[39;49m\u001B[43mindexer\u001B[49m\u001B[43m,\u001B[49m\n\u001B[0;32m    903\u001B[0m \u001B[43m    \u001B[49m\u001B[43maxis\u001B[49m\u001B[38;5;241;43m=\u001B[39;49m\u001B[43maxis\u001B[49m\u001B[43m,\u001B[49m\n\u001B[0;32m    904\u001B[0m \u001B[43m    \u001B[49m\u001B[43mallow_dups\u001B[49m\u001B[38;5;241;43m=\u001B[39;49m\u001B[38;5;28;43;01mTrue\u001B[39;49;00m\u001B[43m,\u001B[49m\n\u001B[0;32m    905\u001B[0m \u001B[43m    \u001B[49m\u001B[43mconsolidate\u001B[49m\u001B[38;5;241;43m=\u001B[39;49m\u001B[38;5;28;43;01mFalse\u001B[39;49;00m\u001B[43m,\u001B[49m\n\u001B[0;32m    906\u001B[0m \u001B[43m\u001B[49m\u001B[43m)\u001B[49m\n",
      "File \u001B[1;32m~\\anaconda3\\lib\\site-packages\\pandas\\core\\internals\\managers.py:710\u001B[0m, in \u001B[0;36mBaseBlockManager.reindex_indexer\u001B[1;34m(self, new_axis, indexer, axis, fill_value, allow_dups, copy, consolidate, only_slice, use_na_proxy)\u001B[0m\n\u001B[0;32m    707\u001B[0m \u001B[38;5;28;01mif\u001B[39;00m axis \u001B[38;5;241m==\u001B[39m \u001B[38;5;241m1\u001B[39m:\n\u001B[0;32m    708\u001B[0m     \u001B[38;5;66;03m# We can avoid the need to rebuild these\u001B[39;00m\n\u001B[0;32m    709\u001B[0m     new_mgr\u001B[38;5;241m.\u001B[39m_blknos \u001B[38;5;241m=\u001B[39m \u001B[38;5;28mself\u001B[39m\u001B[38;5;241m.\u001B[39mblknos\u001B[38;5;241m.\u001B[39mcopy()\n\u001B[1;32m--> 710\u001B[0m     new_mgr\u001B[38;5;241m.\u001B[39m_blklocs \u001B[38;5;241m=\u001B[39m \u001B[38;5;28;43mself\u001B[39;49m\u001B[38;5;241;43m.\u001B[39;49m\u001B[43mblklocs\u001B[49m\u001B[38;5;241;43m.\u001B[39;49m\u001B[43mcopy\u001B[49m\u001B[43m(\u001B[49m\u001B[43m)\u001B[49m\n\u001B[0;32m    711\u001B[0m \u001B[38;5;28;01mreturn\u001B[39;00m new_mgr\n",
      "\u001B[1;31mKeyboardInterrupt\u001B[0m: "
     ]
    }
   ],
   "source": [
    "# # Training tempotrons for the simulation\n",
    "import os\n",
    "from os.path import join\n",
    "import numpy as np\n",
    "import pandas as pd\n",
    "from library.Tempotron import Tempotron\n",
    "from library.script_wrappers import datagen_jitter\n",
    "from library.utils import save_pickle, load_pickle\n",
    "\n",
    "# ====================================== Global params and paths ==================================\n",
    "jitter_times = 5\n",
    "jitter_ms = 2\n",
    "project_tag = 'Jit10_2ms_gau'\n",
    "sim_tag = 'fig6_TrainStand_Icompen2a6'\n",
    "data_dir = 'sim_results/%s' % sim_tag\n",
    "save_dir = 'sim_results/%s/%s' % (sim_tag, project_tag)\n",
    "os.makedirs(save_dir, exist_ok=True)\n",
    "legendsize = 8\n",
    "# ======================== Construct training and testing set =================\n",
    "exintags = ['in']\n",
    "\n",
    "for exintag in exintags:\n",
    "    print(exintag)\n",
    "    if exintag == 'in':\n",
    "        center_x, center_y = 0, 20\n",
    "    elif exintag == 'ex':\n",
    "        center_x, center_y = 0, -20\n",
    "    else:\n",
    "        raise ValueError\n",
    "\n",
    "    simdata = load_pickle(join(data_dir, 'fig6_%s.pkl' % exintag))\n",
    "\n",
    "    BehDF = simdata['BehDF']\n",
    "    SpikeDF = simdata['SpikeDF']\n",
    "    NeuronDF = simdata['NeuronDF']\n",
    "    MetaData = simdata['MetaData']\n",
    "    config_dict = simdata['Config']\n",
    "\n",
    "    theta_phase_plot = BehDF['theta_phase_plot']\n",
    "    traj_x = BehDF['traj_x'].to_numpy()\n",
    "    traj_y = BehDF['traj_y'].to_numpy()\n",
    "    traj_a = BehDF['traj_a'].to_numpy()\n",
    "    t = BehDF['t'].to_numpy()\n",
    "    theta_phase = BehDF['theta_phase'].to_numpy()\n",
    "\n",
    "    nn_ca3 = MetaData['nn_ca3']\n",
    "\n",
    "    xxtun1d = NeuronDF['neuronx'].to_numpy()\n",
    "    yytun1d = NeuronDF['neurony'].to_numpy()\n",
    "    aatun1d = NeuronDF['neurona'].to_numpy()\n",
    "\n",
    "    xxtun1d_ca3 = xxtun1d[:nn_ca3]\n",
    "    yytun1d_ca3 = yytun1d[:nn_ca3]\n",
    "    aatun1d_ca3 = aatun1d[:nn_ca3]\n",
    "    nx_ca3, ny_ca3 = config_dict['nx_ca3'], config_dict['ny_ca3']\n",
    "    xxtun2d_ca3 = xxtun1d_ca3.reshape(nx_ca3, nx_ca3)  # Assuming nx = ny\n",
    "    yytun2d_ca3 = yytun1d_ca3.reshape(nx_ca3, nx_ca3)  # Assuming nx = ny\n",
    "    aatun2d_ca3 = aatun1d_ca3.reshape(nx_ca3, nx_ca3)  # Assuming nx = ny\n",
    "\n",
    "    Ipos_max_compen = config_dict['Ipos_max_compen']\n",
    "    Iangle_diff = config_dict['Iangle_diff']\n",
    "    Iangle_kappa = config_dict['Iangle_kappa']\n",
    "    xmin, xmax, ymin, ymax = config_dict['xmin'], config_dict['xmax'], config_dict['ymin'], config_dict['ymax']\n",
    "    theta_f = config_dict['theta_f']  # in Hz\n",
    "    theta_T = 1 / theta_f * 1e3  # in ms\n",
    "    dt = config_dict['dt']\n",
    "    traj_d = np.append(0, np.cumsum(np.sqrt(np.diff(traj_x) ** 2 + np.diff(traj_y) ** 2)))\n",
    "\n",
    "    # Find all the neurons in the input space\n",
    "    all_nidx = np.where((np.abs(xxtun1d_ca3 - center_x) < 10) & (np.abs(yytun1d_ca3 - center_y) < 10))[0]\n",
    "    all_nidx = np.sort(all_nidx)\n",
    "\n",
    "    # Trim down SpikeDF\n",
    "    SpikeDF['tsp'] = SpikeDF['tidxsp'].apply(lambda x: t[x])\n",
    "    spdftmplist = []\n",
    "    for nidx in all_nidx:\n",
    "        spdftmplist.append(SpikeDF[SpikeDF['neuronid'] == nidx])\n",
    "    SpikeDF_subset = pd.concat(spdftmplist, ignore_index=True)\n",
    "\n",
    "    # Loop for theta cycles (patterns)\n",
    "    data_M = []\n",
    "    label_M = []\n",
    "    trajtype = []\n",
    "    theta_bounds = []\n",
    "    tmax = t.max()\n",
    "    overlap_r = 2\n",
    "    cycle_i = 0\n",
    "    while (cycle_i * theta_T) < tmax:\n",
    "        print('\\rCurrent cycle %d' % cycle_i, end='', flush=True)\n",
    "\n",
    "        # Create input data - spikes\n",
    "        theta_tstart, theta_tend = cycle_i * theta_T, (cycle_i + 1) * theta_T\n",
    "        spdf_M = SpikeDF_subset[(SpikeDF_subset['tsp'] > theta_tstart) & (SpikeDF_subset['tsp'] <= theta_tend)]\n",
    "        if spdf_M.shape[0] < 1:\n",
    "            cycle_i += 1\n",
    "            continue\n",
    "        data_MN = []\n",
    "        for nidx in all_nidx:\n",
    "            spdf_MN = spdf_M[spdf_M['neuronid'] == nidx]\n",
    "            tsp = spdf_MN['tsp'].to_numpy() - theta_tstart\n",
    "            data_MN.append(tsp)\n",
    "        t_intheta = (t > theta_tstart) & (t <= theta_tend)\n",
    "        data_M.append(data_MN)\n",
    "\n",
    "        # Create Labels\n",
    "        traj_r = np.sqrt((traj_x[t_intheta] - center_x) ** 2 + (traj_y[t_intheta] - center_y) ** 2)\n",
    "        r05 = np.median(traj_r)\n",
    "        if r05 < overlap_r:\n",
    "            label = True\n",
    "        else:\n",
    "            label = False\n",
    "        label_M.append(label)\n",
    "\n",
    "        # Traj type\n",
    "        behdf_M = BehDF[(BehDF['t'] > theta_tstart) & (BehDF['t'] <= theta_tend)]\n",
    "        traj_type = int(behdf_M['traj_type'].median())\n",
    "        trajtype.append(traj_type)\n",
    "        theta_bounds.append(np.array([theta_tstart, theta_tend]))\n",
    "\n",
    "        cycle_i += 1\n",
    "    print()\n",
    "    theta_bounds = np.stack(theta_bounds)\n",
    "    data_M = np.array(data_M, dtype=object)\n",
    "    trajtype = np.array(trajtype)\n",
    "    labels = np.array(label_M)\n",
    "\n",
    "    # # Separate train/test set\n",
    "    train_idx = np.where(trajtype == -1)[0].astype(int)\n",
    "    test_idx = np.setdiff1d(np.arange(trajtype.shape[0]), train_idx)\n",
    "    X_train_ori = data_M[train_idx]\n",
    "    X_test_ori = data_M[test_idx]\n",
    "    Y_train_ori = labels[train_idx]\n",
    "    Y_test_ori = labels[test_idx]\n",
    "    trajtype_train_ori = trajtype[train_idx]\n",
    "    trajtype_test_ori = trajtype[test_idx]\n",
    "\n",
    "    # # Jittering\n",
    "    X_train, Y_train, trajtype_train, Marr_train, jitbatch_train = datagen_jitter(X_train_ori, Y_train_ori,\n",
    "                                                                                  trajtype_train_ori, jitter_times,\n",
    "                                                                                  jitter_ms, 0)"
   ],
   "metadata": {
    "collapsed": false,
    "pycharm": {
     "name": "#%%\n"
    }
   }
  },
  {
   "cell_type": "code",
   "execution_count": 7,
   "outputs": [
    {
     "data": {
      "text/plain": "array([array([], dtype=float64), array([], dtype=float64),\n       array([], dtype=float64), array([], dtype=float64),\n       array([], dtype=float64), array([], dtype=float64),\n       array([], dtype=float64), array([], dtype=float64),\n       array([], dtype=float64), array([], dtype=float64),\n       array([], dtype=float64), array([], dtype=float64),\n       array([], dtype=float64), array([], dtype=float64),\n       array([], dtype=float64), array([], dtype=float64),\n       array([], dtype=float64), array([], dtype=float64),\n       array([], dtype=float64), array([], dtype=float64),\n       array([], dtype=float64), array([], dtype=float64),\n       array([], dtype=float64), array([], dtype=float64),\n       array([], dtype=float64), array([], dtype=float64),\n       array([], dtype=float64), array([], dtype=float64),\n       array([], dtype=float64), array([], dtype=float64),\n       array([], dtype=float64), array([], dtype=float64),\n       array([], dtype=float64), array([], dtype=float64),\n       array([], dtype=float64), array([], dtype=float64),\n       array([], dtype=float64), array([], dtype=float64),\n       array([], dtype=float64), array([], dtype=float64),\n       array([], dtype=float64), array([], dtype=float64),\n       array([], dtype=float64), array([], dtype=float64),\n       array([], dtype=float64), array([], dtype=float64),\n       array([], dtype=float64), array([], dtype=float64),\n       array([], dtype=float64), array([], dtype=float64),\n       array([], dtype=float64), array([], dtype=float64),\n       array([], dtype=float64), array([], dtype=float64),\n       array([], dtype=float64), array([], dtype=float64),\n       array([], dtype=float64), array([], dtype=float64),\n       array([], dtype=float64), array([], dtype=float64),\n       array([], dtype=float64), array([], dtype=float64),\n       array([], dtype=float64), array([], dtype=float64),\n       array([], dtype=float64), array([], dtype=float64),\n       array([], dtype=float64), array([], dtype=float64),\n       array([], dtype=float64), array([], dtype=float64),\n       array([], dtype=float64), array([], dtype=float64),\n       array([], dtype=float64), array([], dtype=float64),\n       array([], dtype=float64), array([], dtype=float64),\n       array([], dtype=float64), array([], dtype=float64),\n       array([], dtype=float64), array([], dtype=float64),\n       array([], dtype=float64), array([], dtype=float64),\n       array([], dtype=float64), array([], dtype=float64),\n       array([], dtype=float64), array([], dtype=float64),\n       array([], dtype=float64), array([], dtype=float64),\n       array([], dtype=float64), array([49.50352717]),\n       array([47.4850757]), array([46.95631184]), array([51.31289715]),\n       array([54.05882603]), array([57.91271343]),\n       array([], dtype=float64), array([], dtype=float64),\n       array([], dtype=float64), array([], dtype=float64),\n       array([], dtype=float64), array([], dtype=float64),\n       array([], dtype=float64), array([], dtype=float64),\n       array([], dtype=float64), array([], dtype=float64),\n       array([], dtype=float64), array([], dtype=float64),\n       array([38.99464691]), array([36.27587271]),\n       array([32.72946684, 53.89667343]),\n       array([32.45191516, 52.29249334]),\n       array([36.39473821, 52.7593018 ]),\n       array([34.6779752 , 52.98015803]), array([47.33037513]),\n       array([46.8962929]), array([53.76019827]), array([52.10771473]),\n       array([57.79454452]), array([], dtype=float64),\n       array([], dtype=float64), array([], dtype=float64),\n       array([], dtype=float64), array([], dtype=float64),\n       array([], dtype=float64), array([], dtype=float64),\n       array([], dtype=float64), array([32.29537164]),\n       array([32.7933312]), array([31.04631655, 47.45635174]),\n       array([37.5281412 , 42.29452039]),\n       array([34.21560821, 44.41723789]),\n       array([34.12827901, 46.74153544]),\n       array([35.35473404, 48.36636084]),\n       array([33.8606381 , 44.92673044]),\n       array([44.15058292, 61.17544447]), array([43.87992679]),\n       array([51.75267676]), array([50.23564973]), array([59.52107524]),\n       array([], dtype=float64), array([], dtype=float64),\n       array([], dtype=float64), array([], dtype=float64),\n       array([], dtype=float64), array([], dtype=float64),\n       array([48.04025001]), array([36.71763273]),\n       array([32.53732271, 45.58432003]),\n       array([36.776028  , 43.46458151]),\n       array([34.68711089, 45.38593177]),\n       array([33.09201374, 43.33486977, 51.28757136]),\n       array([35.68611398, 43.65316246, 50.1032806 ]),\n       array([35.49204814, 48.31902522, 51.06117893]),\n       array([37.13136988, 43.83032331, 51.64944418]),\n       array([46.68733003, 55.97504229]),\n       array([46.12814203, 51.56824573]),\n       array([44.32032071, 59.30429928]),\n       array([50.75311262, 59.23036631]), array([44.61136964]),\n       array([61.24607034]), array([], dtype=float64),\n       array([], dtype=float64), array([], dtype=float64),\n       array([], dtype=float64), array([], dtype=float64),\n       array([37.24292241]), array([35.36285719, 50.49970921]),\n       array([34.77625814, 45.59225744]), array([35.1197195, 42.3021254]),\n       array([35.40616654, 40.38433526, 56.04133096]),\n       array([37.57833666, 42.88493993, 47.27341988]),\n       array([32.24318149, 43.13457355, 46.986676  ]),\n       array([36.32299343, 45.73521626, 49.0289672 ]),\n       array([38.11964711, 43.24746038, 52.22686909, 59.55621245]),\n       array([35.90425392, 46.91649292, 52.19801924, 59.616738  ]),\n       array([44.76886096, 51.70341013, 57.6872478 ]),\n       array([46.73686554, 55.48726075]),\n       array([45.91180812, 56.7407564 ]), array([49.40900266]),\n       array([54.47282516]), array([], dtype=float64),\n       array([], dtype=float64), array([], dtype=float64),\n       array([], dtype=float64), array([], dtype=float64),\n       array([33.68782975]), array([31.01374239, 47.84420638]),\n       array([37.51412711, 43.50439201]),\n       array([33.50434278, 44.46307814]),\n       array([33.94021505, 47.32055341, 47.35304326]),\n       array([34.81272548, 42.56111955, 46.66390236]),\n       array([34.60258805, 40.11187015, 50.04924206]),\n       array([37.14826202, 41.82070159, 48.15353072, 58.00779059]),\n       array([31.55973065, 47.51622825, 47.10208353]),\n       array([33.8411256 , 46.75551432, 48.94212975]),\n       array([47.69005843, 52.37514252]),\n       array([44.1693153 , 47.52294958, 56.74947599]),\n       array([45.12304307, 54.85754628]),\n       array([45.58171912, 59.37395179]), array([51.99284827]),\n       array([], dtype=float64), array([], dtype=float64),\n       array([], dtype=float64), array([], dtype=float64),\n       array([], dtype=float64), array([32.50840035]),\n       array([37.43443712, 52.95399272]),\n       array([34.98733781, 46.08069582]),\n       array([37.54351398, 41.81841554]),\n       array([36.34423761, 40.7796049 , 54.33199155]),\n       array([33.94420361, 40.52353733, 44.36615207]),\n       array([34.94016728, 43.55341037, 51.38430925]),\n       array([32.75388383, 43.58826114, 50.74337166]),\n       array([35.05225642, 40.91117607, 52.33365619, 58.02137841]),\n       array([32.86910674, 46.2279859 , 48.93183383, 58.32540982]),\n       array([42.88907398, 51.7668954 ]),\n       array([45.81424841, 56.05108129]),\n       array([46.26204057, 56.54601856]),\n       array([47.96212191, 63.25345834]), array([51.53250704]),\n       array([], dtype=float64), array([], dtype=float64),\n       array([], dtype=float64), array([], dtype=float64),\n       array([], dtype=float64), array([35.23549617]),\n       array([34.30073736]), array([35.84489233, 46.91150395]),\n       array([35.73383756, 43.56025774]),\n       array([38.69268678, 44.56722368, 53.78102675]),\n       array([36.9780333 , 39.52307465, 55.14887931]),\n       array([32.70125139, 44.34843478, 52.67743985]),\n       array([37.41235663, 45.43285859, 47.00376391]),\n       array([36.00838364, 43.23911903, 51.04612069]),\n       array([35.15086081, 48.21356389, 56.89164578]),\n       array([43.02859076, 44.58379381, 55.25986262]),\n       array([43.82191404, 50.82325823]), array([45.89669292]),\n       array([49.14139243]), array([52.44657338]),\n       array([], dtype=float64), array([], dtype=float64),\n       array([], dtype=float64), array([], dtype=float64),\n       array([], dtype=float64), array([43.80135841]),\n       array([33.82177533]), array([34.38087993, 50.91055844]),\n       array([38.40218051, 44.3219658 ]),\n       array([39.22250265, 46.56343518]),\n       array([33.36489254, 45.32487879]),\n       array([31.99092621, 44.84853173]),\n       array([38.66794101, 45.61585811, 54.6365363 ]),\n       array([34.35822431, 43.967883  ]),\n       array([45.22883758, 53.35941318]),\n       array([44.5319447 , 52.19413718]),\n       array([46.8058884 , 56.68038774]), array([49.90381605]),\n       array([54.99677703]), array([66.26682273]),\n       array([], dtype=float64), array([], dtype=float64),\n       array([], dtype=float64), array([], dtype=float64),\n       array([], dtype=float64), array([], dtype=float64),\n       array([], dtype=float64), array([34.30263845]),\n       array([33.83324147]), array([36.16300346, 51.71107758]),\n       array([35.06446238, 46.59501804]),\n       array([35.17844394, 42.51439214]),\n       array([36.34531122, 49.4802386 ]),\n       array([45.31247422, 59.07935826]), array([46.84457741]),\n       array([52.25567008]), array([51.33573818]), array([49.30344662]),\n       array([63.63073555]), array([], dtype=float64),\n       array([], dtype=float64), array([], dtype=float64),\n       array([], dtype=float64), array([], dtype=float64),\n       array([], dtype=float64), array([], dtype=float64),\n       array([], dtype=float64), array([], dtype=float64),\n       array([46.63336701]), array([34.12680303]), array([32.78082628]),\n       array([46.0126377]), array([46.73329584]), array([49.89779912]),\n       array([51.0612092]), array([57.17743572]), array([57.52149301]),\n       array([], dtype=float64), array([], dtype=float64),\n       array([], dtype=float64), array([], dtype=float64),\n       array([], dtype=float64), array([], dtype=float64),\n       array([], dtype=float64), array([], dtype=float64),\n       array([], dtype=float64), array([], dtype=float64),\n       array([], dtype=float64), array([], dtype=float64),\n       array([], dtype=float64), array([], dtype=float64),\n       array([], dtype=float64), array([], dtype=float64),\n       array([], dtype=float64), array([], dtype=float64),\n       array([], dtype=float64), array([], dtype=float64),\n       array([], dtype=float64), array([], dtype=float64),\n       array([], dtype=float64), array([], dtype=float64),\n       array([], dtype=float64), array([], dtype=float64),\n       array([], dtype=float64), array([], dtype=float64),\n       array([], dtype=float64), array([], dtype=float64),\n       array([], dtype=float64), array([], dtype=float64),\n       array([], dtype=float64), array([], dtype=float64),\n       array([], dtype=float64), array([], dtype=float64),\n       array([], dtype=float64), array([], dtype=float64),\n       array([], dtype=float64), array([], dtype=float64),\n       array([], dtype=float64), array([], dtype=float64),\n       array([], dtype=float64), array([], dtype=float64),\n       array([], dtype=float64), array([], dtype=float64),\n       array([], dtype=float64), array([], dtype=float64),\n       array([], dtype=float64), array([], dtype=float64),\n       array([], dtype=float64), array([], dtype=float64),\n       array([], dtype=float64), array([], dtype=float64),\n       array([], dtype=float64), array([], dtype=float64),\n       array([], dtype=float64), array([], dtype=float64),\n       array([], dtype=float64), array([], dtype=float64),\n       array([], dtype=float64), array([], dtype=float64),\n       array([], dtype=float64), array([], dtype=float64),\n       array([], dtype=float64), array([], dtype=float64),\n       array([], dtype=float64), array([], dtype=float64),\n       array([], dtype=float64), array([], dtype=float64),\n       array([], dtype=float64), array([], dtype=float64),\n       array([], dtype=float64), array([], dtype=float64),\n       array([], dtype=float64), array([], dtype=float64),\n       array([], dtype=float64), array([], dtype=float64),\n       array([], dtype=float64), array([], dtype=float64),\n       array([], dtype=float64), array([], dtype=float64),\n       array([], dtype=float64), array([], dtype=float64),\n       array([], dtype=float64), array([], dtype=float64),\n       array([], dtype=float64), array([], dtype=float64),\n       array([], dtype=float64), array([], dtype=float64),\n       array([], dtype=float64), array([], dtype=float64),\n       array([], dtype=float64), array([], dtype=float64),\n       array([], dtype=float64), array([], dtype=float64),\n       array([], dtype=float64), array([], dtype=float64),\n       array([], dtype=float64), array([], dtype=float64),\n       array([], dtype=float64), array([], dtype=float64),\n       array([], dtype=float64)], dtype=object)"
     },
     "execution_count": 7,
     "metadata": {},
     "output_type": "execute_result"
    }
   ],
   "source": [
    "X_train[0]"
   ],
   "metadata": {
    "collapsed": false,
    "pycharm": {
     "name": "#%%\n"
    }
   }
  },
  {
   "cell_type": "code",
   "execution_count": 5,
   "outputs": [
    {
     "data": {
      "text/plain": "array([array([], dtype=float64), array([], dtype=float64),\n       array([], dtype=float64), array([], dtype=float64),\n       array([], dtype=float64), array([], dtype=float64),\n       array([], dtype=float64), array([], dtype=float64),\n       array([], dtype=float64), array([], dtype=float64),\n       array([], dtype=float64), array([], dtype=float64),\n       array([], dtype=float64), array([], dtype=float64),\n       array([], dtype=float64), array([], dtype=float64),\n       array([], dtype=float64), array([], dtype=float64),\n       array([], dtype=float64), array([], dtype=float64),\n       array([], dtype=float64), array([], dtype=float64),\n       array([], dtype=float64), array([], dtype=float64),\n       array([], dtype=float64), array([], dtype=float64),\n       array([], dtype=float64), array([], dtype=float64),\n       array([], dtype=float64), array([], dtype=float64),\n       array([], dtype=float64), array([], dtype=float64),\n       array([], dtype=float64), array([], dtype=float64),\n       array([], dtype=float64), array([], dtype=float64),\n       array([], dtype=float64), array([], dtype=float64),\n       array([], dtype=float64), array([], dtype=float64),\n       array([], dtype=float64), array([], dtype=float64),\n       array([], dtype=float64), array([], dtype=float64),\n       array([], dtype=float64), array([], dtype=float64),\n       array([], dtype=float64), array([], dtype=float64),\n       array([], dtype=float64), array([], dtype=float64),\n       array([], dtype=float64), array([], dtype=float64),\n       array([], dtype=float64), array([], dtype=float64),\n       array([], dtype=float64), array([], dtype=float64),\n       array([], dtype=float64), array([], dtype=float64),\n       array([], dtype=float64), array([], dtype=float64),\n       array([], dtype=float64), array([], dtype=float64),\n       array([], dtype=float64), array([], dtype=float64),\n       array([], dtype=float64), array([], dtype=float64),\n       array([], dtype=float64), array([], dtype=float64),\n       array([], dtype=float64), array([], dtype=float64),\n       array([], dtype=float64), array([], dtype=float64),\n       array([], dtype=float64), array([], dtype=float64),\n       array([], dtype=float64), array([], dtype=float64),\n       array([], dtype=float64), array([], dtype=float64),\n       array([], dtype=float64), array([], dtype=float64),\n       array([], dtype=float64), array([], dtype=float64),\n       array([], dtype=float64), array([], dtype=float64),\n       array([], dtype=float64), array([], dtype=float64),\n       array([], dtype=float64), array([], dtype=float64),\n       array([], dtype=float64), array([48.41201038]),\n       array([46.46510049]), array([48.8300609]), array([48.48133049]),\n       array([55.10971555]), array([58.02757883]),\n       array([], dtype=float64), array([], dtype=float64),\n       array([], dtype=float64), array([], dtype=float64),\n       array([], dtype=float64), array([], dtype=float64),\n       array([], dtype=float64), array([], dtype=float64),\n       array([], dtype=float64), array([], dtype=float64),\n       array([], dtype=float64), array([], dtype=float64),\n       array([36.21094325]), array([35.00806391]),\n       array([33.81797666, 57.26633852]),\n       array([36.45481016, 51.40097626]),\n       array([33.3270619 , 51.04890935]),\n       array([31.42310365, 51.240525  ]), array([48.76715049]),\n       array([46.62300343]), array([47.98677823]), array([51.88560569]),\n       array([57.76984273]), array([], dtype=float64),\n       array([], dtype=float64), array([], dtype=float64),\n       array([], dtype=float64), array([], dtype=float64),\n       array([], dtype=float64), array([], dtype=float64),\n       array([], dtype=float64), array([36.02254994]),\n       array([33.19010004]), array([35.76608814, 44.24055464]),\n       array([28.20249486, 47.60110027]),\n       array([36.85794388, 46.26975147]),\n       array([35.34510168, 45.66359959]),\n       array([33.20890582, 47.42999415]),\n       array([38.72882608, 50.676387  ]),\n       array([44.56755215, 54.14274857]), array([49.7655739]),\n       array([48.50517504]), array([54.30473528]), array([59.7144174]),\n       array([], dtype=float64), array([], dtype=float64),\n       array([], dtype=float64), array([], dtype=float64),\n       array([], dtype=float64), array([], dtype=float64),\n       array([44.23437374]), array([33.80904626]),\n       array([33.14220804, 48.02416908]),\n       array([34.76571107, 43.25272706]),\n       array([32.79533721, 40.69253169]),\n       array([36.03798907, 40.42135607, 50.28860783]),\n       array([32.16122277, 43.00664251, 52.80794324]),\n       array([32.20458512, 47.26830362, 49.65558155]),\n       array([32.52125051, 46.68309271, 55.49286449]),\n       array([45.71793555, 52.05512519]),\n       array([45.79428135, 50.73835872]),\n       array([46.20687123, 61.09054084]),\n       array([52.03739822, 61.40861751]), array([48.98069808]),\n       array([56.64873246]), array([], dtype=float64),\n       array([], dtype=float64), array([], dtype=float64),\n       array([], dtype=float64), array([], dtype=float64),\n       array([38.06621815]), array([33.71616299, 50.27611237]),\n       array([36.30703778, 45.56873116]),\n       array([36.3444475 , 42.77926028]),\n       array([35.0283318 , 38.53265058, 53.81856463]),\n       array([36.75394126, 43.23628674, 48.67458262]),\n       array([33.96850463, 45.1038451 , 52.60608921]),\n       array([31.4818402 , 44.32089557, 43.36093987]),\n       array([36.3836326 , 40.66258094, 50.31035437, 61.75583471]),\n       array([37.1204174 , 41.196054  , 49.24955572, 56.97852712]),\n       array([46.49601747, 48.0502474 , 57.43834181]),\n       array([49.14196413, 53.56433349]),\n       array([47.21518172, 52.2793328 ]), array([47.1352248]),\n       array([52.62738896]), array([], dtype=float64),\n       array([], dtype=float64), array([], dtype=float64),\n       array([], dtype=float64), array([], dtype=float64),\n       array([32.81065445]), array([32.59518726, 48.39592048]),\n       array([35.26217633, 44.81508132]),\n       array([36.71156236, 44.4125259 ]),\n       array([33.33422188, 45.18182191, 52.56368589]),\n       array([37.1947449 , 42.20779953, 47.41843851]),\n       array([33.33004587, 40.7143322 , 47.20457789]),\n       array([35.67235422, 45.20804167, 49.52041162, 55.99856842]),\n       array([33.20231887, 46.48603247, 49.90989084]),\n       array([35.74072119, 45.51244361, 52.10594227]),\n       array([38.5214623 , 47.13020575]),\n       array([42.84295201, 47.69147254, 52.52867035]),\n       array([45.92022996, 64.89203201]),\n       array([41.75784092, 60.28740208]), array([50.71108071]),\n       array([], dtype=float64), array([], dtype=float64),\n       array([], dtype=float64), array([], dtype=float64),\n       array([], dtype=float64), array([37.31140719]),\n       array([34.85035751, 48.68740958]),\n       array([37.92991038, 40.06635304]),\n       array([34.40421566, 41.85716834]),\n       array([33.81976221, 45.75685954, 51.61858395]),\n       array([34.47967668, 43.63361759, 45.29803782]),\n       array([36.66596127, 43.76667818, 47.2000113 ]),\n       array([32.62167476, 48.77374177, 49.11313334]),\n       array([35.640591  , 45.1462823 , 48.26176083, 59.6351702 ]),\n       array([36.41773722, 49.36806607, 51.93577393, 59.15901196]),\n       array([41.29818402, 54.07998493]),\n       array([46.33199461, 55.55760823]),\n       array([47.54846855, 56.43114737]),\n       array([49.21357713, 68.4647034 ]), array([49.24395417]),\n       array([], dtype=float64), array([], dtype=float64),\n       array([], dtype=float64), array([], dtype=float64),\n       array([], dtype=float64), array([35.06929252]),\n       array([33.78371768]), array([32.98075082, 47.48644953]),\n       array([35.77955328, 43.43585064]),\n       array([34.5301336 , 44.78883922, 56.37356463]),\n       array([32.54096893, 43.74345126, 51.45634128]),\n       array([37.51328028, 43.55451144, 46.80338878]),\n       array([32.89112753, 45.45011565, 50.07002719]),\n       array([32.55017303, 42.69246679, 49.70999253]),\n       array([34.17492752, 45.40134755, 56.55944621]),\n       array([44.82547322, 49.60263579, 57.419811  ]),\n       array([44.22620404, 49.68016088]), array([47.65539696]),\n       array([49.34452206]), array([53.9902339]),\n       array([], dtype=float64), array([], dtype=float64),\n       array([], dtype=float64), array([], dtype=float64),\n       array([], dtype=float64), array([48.40852254]),\n       array([34.53937345]), array([34.36337664, 55.73133949]),\n       array([33.96809561, 48.81931461]),\n       array([34.72908627, 45.54002961]),\n       array([32.87187596, 44.60025978]),\n       array([35.15798432, 43.52953178]),\n       array([33.31556532, 45.56772217, 54.14546416]),\n       array([34.61578311, 49.43626037]),\n       array([47.25705484, 48.14717551]),\n       array([47.18874101, 54.09392362]),\n       array([46.69211008, 59.01227906]), array([50.77945096]),\n       array([57.9758563]), array([66.53620147]),\n       array([], dtype=float64), array([], dtype=float64),\n       array([], dtype=float64), array([], dtype=float64),\n       array([], dtype=float64), array([], dtype=float64),\n       array([], dtype=float64), array([33.15276551]),\n       array([35.35401115]), array([32.17194404, 51.86215103]),\n       array([32.66687855, 48.7490086 ]),\n       array([35.86794892, 46.63054194]),\n       array([33.65703256, 48.49393421]),\n       array([44.17115649, 57.70251351]), array([45.80439968]),\n       array([49.61334637]), array([52.89594698]), array([50.55354898]),\n       array([63.88208861]), array([], dtype=float64),\n       array([], dtype=float64), array([], dtype=float64),\n       array([], dtype=float64), array([], dtype=float64),\n       array([], dtype=float64), array([], dtype=float64),\n       array([], dtype=float64), array([], dtype=float64),\n       array([45.93211695]), array([33.7887343]), array([35.00147832]),\n       array([42.01981298]), array([47.23048148]), array([49.75832691]),\n       array([54.2086199]), array([51.58597839]), array([57.96983585]),\n       array([], dtype=float64), array([], dtype=float64),\n       array([], dtype=float64), array([], dtype=float64),\n       array([], dtype=float64), array([], dtype=float64),\n       array([], dtype=float64), array([], dtype=float64),\n       array([], dtype=float64), array([], dtype=float64),\n       array([], dtype=float64), array([], dtype=float64),\n       array([], dtype=float64), array([], dtype=float64),\n       array([], dtype=float64), array([], dtype=float64),\n       array([], dtype=float64), array([], dtype=float64),\n       array([], dtype=float64), array([], dtype=float64),\n       array([], dtype=float64), array([], dtype=float64),\n       array([], dtype=float64), array([], dtype=float64),\n       array([], dtype=float64), array([], dtype=float64),\n       array([], dtype=float64), array([], dtype=float64),\n       array([], dtype=float64), array([], dtype=float64),\n       array([], dtype=float64), array([], dtype=float64),\n       array([], dtype=float64), array([], dtype=float64),\n       array([], dtype=float64), array([], dtype=float64),\n       array([], dtype=float64), array([], dtype=float64),\n       array([], dtype=float64), array([], dtype=float64),\n       array([], dtype=float64), array([], dtype=float64),\n       array([], dtype=float64), array([], dtype=float64),\n       array([], dtype=float64), array([], dtype=float64),\n       array([], dtype=float64), array([], dtype=float64),\n       array([], dtype=float64), array([], dtype=float64),\n       array([], dtype=float64), array([], dtype=float64),\n       array([], dtype=float64), array([], dtype=float64),\n       array([], dtype=float64), array([], dtype=float64),\n       array([], dtype=float64), array([], dtype=float64),\n       array([], dtype=float64), array([], dtype=float64),\n       array([], dtype=float64), array([], dtype=float64),\n       array([], dtype=float64), array([], dtype=float64),\n       array([], dtype=float64), array([], dtype=float64),\n       array([], dtype=float64), array([], dtype=float64),\n       array([], dtype=float64), array([], dtype=float64),\n       array([], dtype=float64), array([], dtype=float64),\n       array([], dtype=float64), array([], dtype=float64),\n       array([], dtype=float64), array([], dtype=float64),\n       array([], dtype=float64), array([], dtype=float64),\n       array([], dtype=float64), array([], dtype=float64),\n       array([], dtype=float64), array([], dtype=float64),\n       array([], dtype=float64), array([], dtype=float64),\n       array([], dtype=float64), array([], dtype=float64),\n       array([], dtype=float64), array([], dtype=float64),\n       array([], dtype=float64), array([], dtype=float64),\n       array([], dtype=float64), array([], dtype=float64),\n       array([], dtype=float64), array([], dtype=float64),\n       array([], dtype=float64), array([], dtype=float64),\n       array([], dtype=float64), array([], dtype=float64),\n       array([], dtype=float64), array([], dtype=float64),\n       array([], dtype=float64), array([], dtype=float64),\n       array([], dtype=float64)], dtype=object)"
     },
     "execution_count": 5,
     "metadata": {},
     "output_type": "execute_result"
    }
   ],
   "source": [
    "X_train[0]"
   ],
   "metadata": {
    "collapsed": false,
    "pycharm": {
     "name": "#%%\n"
    }
   }
  }
 ],
 "metadata": {
  "kernelspec": {
   "display_name": "Python 3",
   "language": "python",
   "name": "python3"
  },
  "language_info": {
   "codemirror_mode": {
    "name": "ipython",
    "version": 3
   },
   "file_extension": ".py",
   "mimetype": "text/x-python",
   "name": "python",
   "nbconvert_exporter": "python",
   "pygments_lexer": "ipython3",
   "version": "3.8.5"
  }
 },
 "nbformat": 4,
 "nbformat_minor": 4
}