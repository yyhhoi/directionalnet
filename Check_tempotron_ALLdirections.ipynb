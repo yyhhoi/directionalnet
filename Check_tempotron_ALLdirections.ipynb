{
 "cells": [
  {
   "cell_type": "code",
   "execution_count": null,
   "outputs": [],
   "source": [
    "import os\n",
    "from os.path import join\n",
    "import numpy as np\n",
    "import matplotlib.pyplot as plt\n",
    "import matplotlib as mpl\n",
    "import matplotlib.cm as cm\n",
    "from library.Tempotron import Tempotron\n",
    "from library.utils import load_pickle\n",
    "from library.visualization import plot_tempotron_traces\n",
    "from library.script_wrappers import directional_acc_metrics"
   ],
   "metadata": {
    "collapsed": false,
    "pycharm": {
     "name": "#%%\n"
    }
   }
  },
  {
   "cell_type": "code",
   "execution_count": null,
   "outputs": [],
   "source": [
    "project_tag = 'Jit100_2ms_gau'\n",
    "simdata_dir = 'sim_results/fig6_TrainStand_Icompen2a4'\n",
    "data_dir = join(simdata_dir, project_tag)\n",
    "plot_dir = 'plots/fig6'\n",
    "exintag = 'in'\n",
    "TrainResult = load_pickle(join(data_dir, 'TrainResult_%s_%s.pickle'% (project_tag, exintag)))\n",
    "\n"
   ],
   "metadata": {
    "collapsed": false,
    "pycharm": {
     "name": "#%%\n"
    }
   }
  },
  {
   "cell_type": "code",
   "execution_count": null,
   "outputs": [],
   "source": [
    "acc =dict()\n",
    "acc[0] = 5\n",
    "acc[0] = acc.get(0, 2)\n",
    "acc\n"
   ],
   "metadata": {
    "collapsed": false,
    "pycharm": {
     "name": "#%%\n"
    }
   }
  },
  {
   "cell_type": "code",
   "execution_count": null,
   "outputs": [],
   "source": [
    "num_trajtypes = 24\n",
    "acc = np.zeros(num_trajtypes)\n",
    "for trajtype, dftmp in TrainResult.groupby('trajtype_test'):\n",
    "    jitnum = int(dftmp.jitbatch_test.max() + 1)\n",
    "    jitPred = np.zeros(jitnum).astype(bool)\n",
    "    for jiti, dftmp2 in dftmp.groupby('jitbatch_test'):\n",
    "        jitPred[jiti] = dftmp2.Y_pred_test.sum() > 0.5\n",
    "    acc[trajtype] = jitPred.mean()\n",
    "\n",
    "acc"
   ],
   "metadata": {
    "collapsed": false,
    "pycharm": {
     "name": "#%%\n"
    }
   }
  },
  {
   "cell_type": "code",
   "execution_count": null,
   "outputs": [],
   "source": [
    "jitnum"
   ],
   "metadata": {
    "collapsed": false,
    "pycharm": {
     "name": "#%%\n"
    }
   }
  },
  {
   "cell_type": "code",
   "execution_count": null,
   "outputs": [],
   "source": [
    "# Plotting and path parameters\n",
    "legendsize = 8\n",
    "plt.rcParams.update({\"font.family\": \"Arial\",\n",
    "                     'font.size': legendsize,\n",
    "                     \"axes.titlesize\": legendsize,\n",
    "                     'axes.labelpad': 0,\n",
    "                     'axes.titlepad': 0,\n",
    "                     'xtick.major.pad': 0,\n",
    "                     'ytick.major.pad': 0,\n",
    "                     'lines.linewidth': 1,\n",
    "                     'figure.figsize': (5.2, 6.1),\n",
    "                     'figure.facecolor': 'white',\n",
    "                     'figure.dpi': 300,\n",
    "                     'axes.spines.top': False,\n",
    "                     'axes.spines.right': False,\n",
    "\n",
    "                     })\n",
    "\n",
    "project_tag = 'Jit100_2ms_gau'\n",
    "simdata_dir = 'sim_results/fig6_TrainStand_Icompen2a4'\n",
    "data_dir = join(simdata_dir, project_tag)\n",
    "plot_dir = 'plots/fig6'\n",
    "os.makedirs(plot_dir, exist_ok=True)"
   ],
   "metadata": {
    "collapsed": false,
    "pycharm": {
     "name": "#%%\n"
    }
   }
  },
  {
   "cell_type": "code",
   "execution_count": null,
   "outputs": [],
   "source": [
    "# # For widths:  0.75/5 | Tempotron illustration 2.75/5 | 0.75/5 | 0.75/5\n",
    "# Top 1st column: Training scheme\n",
    "ax_h1 = 0.590/5\n",
    "ax_w1 = 0.75/5\n",
    "hgap1 = 0.02\n",
    "wgap1 = 0.02\n",
    "xshift1 = 0.055\n",
    "yshift1 = -0.015\n",
    "inseq_yshift = -0.035\n",
    "exseq_yshift = -0.02\n",
    "\n",
    "# Top 2nd column: Tempotron illustration\n",
    "axtem_w = 1.3/5  # The next half 1.375 is for drawing\n",
    "tem_xshift = 0.02\n",
    "tem_yshift = 0\n",
    "tem_hgap = 0.02\n",
    "tem_wgap = 0.1\n",
    "trace_xshift = -0.05\n",
    "\n",
    "\n",
    "# Top 3rd & 4th column: 2D weights, testing scheme and ACC\n",
    "hgap3 = 0\n",
    "wgap3 = 0.02\n",
    "ax_h3 = 0.39/5\n",
    "ax_w3 = 0.5/5\n",
    "xshift3 = -0.02\n",
    "yshift3_12 = 0.01\n",
    "yshift3_3 = -0.02\n",
    "xshift4 = 0.06\n",
    "yshift4 = 0.01\n",
    "\n",
    "# Raster plots\n",
    "ax_h_ras = 2/5\n",
    "ax_w_ras = 1/12  # 0.5/10.5 for 1d weights\n",
    "hgap_ras = 0.06\n",
    "ras_xshift = 0.1\n",
    "ras_in_yshift = 0\n",
    "ras_ex_yshift = 0.05\n",
    "\n",
    "# Child plots in the raster plots\n",
    "trace_h = 0.025\n",
    "trace_hshift = 0.03\n",
    "w1d_w = 0.5/12\n",
    "\n",
    "fig = plt.figure()\n",
    "ax_trainScheme = fig.add_axes([ax_w1 * 0 + wgap1/2 + xshift1, 1 - ax_h1 * 1 + hgap1/2 + yshift1, ax_w1 - wgap1, ax_h1 - hgap1])\n",
    "ax_trainSeqIn = fig.add_axes([ax_w1 * 0 + wgap1/2 + xshift1, 1 - ax_h1 * 1.5 + hgap1/2 + yshift1 + inseq_yshift, ax_w1 - wgap1, ax_h1/2 - hgap1])\n",
    "ax_trainSeqEx = fig.add_axes([ax_w1 * 0 + wgap1/2 + xshift1, 1 - ax_h1 * 2.0 + hgap1/2 + yshift1 + exseq_yshift, ax_w1 - wgap1, ax_h1/2 - hgap1])\n",
    "\n",
    "ax_tem   = fig.add_axes([ax_w1 * 1 + tem_wgap/2 + xshift1 + tem_xshift          , 1 - ax_h1 * 2 + tem_hgap/2 + tem_yshift, axtem_w - tem_wgap, ax_h1*2 - tem_hgap])\n",
    "ax_trace = fig.add_axes([ax_w1 * 1 + axtem_w + tem_wgap/2 + xshift1 + tem_xshift + trace_xshift, 1 - ax_h1 * 2 + tem_hgap/2 + tem_yshift, axtem_w - tem_wgap, ax_h1*0.3])\n",
    "\n",
    "axW_x = ax_w1 + xshift1 + axtem_w * 2\n",
    "ax_inW2D = fig.add_axes([axW_x + wgap3/2 + xshift3, 1 - ax_h3 * 1 + hgap3/2 + yshift3_12, ax_w3 - wgap3, ax_h3 - hgap3 - wgap3])\n",
    "ax_exW2D = fig.add_axes([axW_x + wgap3/2 + xshift3, 1 - ax_h3 * 2 + hgap3/2 + yshift3_12, ax_w3 - wgap3, ax_h3 - hgap3 - wgap3])\n",
    "ax_testScheme = fig.add_axes([axW_x + wgap3/2 + xshift3, 1 - ax_h3 * 3 + hgap3/2 + yshift3_3, ax_w3 - wgap3, ax_h3 - hgap3 - wgap3])\n",
    "ax_cbar = fig.add_axes([0.80, 0.865, 0.01, 0.075])\n",
    "\n",
    "ax_acc = fig.add_axes([axW_x + ax_w3 + wgap3/2 + xshift4, 1 - ax_h3 * 1 + hgap3/2 + yshift4, ax_w3 - wgap3, ax_h3 - hgap3 - wgap3])\n",
    "ax_tpr = fig.add_axes([axW_x + ax_w3 + wgap3/2 + xshift4, 1 - ax_h3 * 2 + hgap3/2 + yshift4, ax_w3 - wgap3, ax_h3 - hgap3 - wgap3])\n",
    "ax_tnr = fig.add_axes([axW_x + ax_w3 + wgap3/2 + xshift4, 1 - ax_h3 * 3 + hgap3/2 + yshift4, ax_w3 - wgap3, ax_h3 - hgap3 - wgap3])\n",
    "\n",
    "\n",
    "ax_inRas180 = [fig.add_axes([ax_w_ras * i + ras_xshift, 1 - ax_h1*2 - ax_h_ras * 1 + trace_h + hgap_ras/2 + ras_in_yshift, ax_w_ras, ax_h_ras - hgap_ras - trace_h]) for i in range(10)]\n",
    "ax_exRas180 = [fig.add_axes([ax_w_ras * i + ras_xshift, 1 - ax_h1*2 - ax_h_ras * 2 + trace_h + hgap_ras/2 + ras_ex_yshift, ax_w_ras, ax_h_ras - hgap_ras - trace_h]) for i in range(10)]\n",
    "\n",
    "ax_inRasW1d = fig.add_axes([ax_w_ras * 10 + ras_xshift, 1 - ax_h1*2 - ax_h_ras * 1 + trace_h + hgap_ras/2 + ras_in_yshift, w1d_w, ax_h_ras - hgap_ras - trace_h])\n",
    "ax_exRasW1d = fig.add_axes([ax_w_ras * 10 + ras_xshift, 1 - ax_h1*2 - ax_h_ras * 2 + trace_h + hgap_ras/2 + ras_ex_yshift, w1d_w, ax_h_ras - hgap_ras - trace_h])\n",
    "\n",
    "ax_inRasTrace = [fig.add_axes([ax_w_ras * i + ras_xshift, 1 - ax_h1*2 - ax_h_ras * 1 + trace_hshift + ras_in_yshift, ax_w_ras, trace_h]) for i in range(10)]\n",
    "ax_exRasTrace = [fig.add_axes([ax_w_ras * i + ras_xshift, 1 - ax_h1*2 - ax_h_ras * 2 + trace_hshift + ras_ex_yshift, ax_w_ras, trace_h]) for i in range(10)]\n",
    "\n",
    "\n",
    "ax_exinW2D = [ax_exW2D, ax_inW2D]\n",
    "ax_exinRas = [ax_exRas180, ax_inRas180]\n",
    "ax_exinRasTrace = [ax_exRasTrace, ax_inRasTrace]\n",
    "ax_exinRasW1d = [ax_exRasW1d, ax_inRasW1d]\n",
    "ax_exinSeq = [ax_trainSeqEx, ax_trainSeqIn]\n",
    "plt.close(fig)"
   ],
   "metadata": {
    "collapsed": false,
    "pycharm": {
     "name": "#%%\n"
    }
   }
  },
  {
   "cell_type": "code",
   "execution_count": null,
   "outputs": [],
   "source": [
    "# # Determine weight color scale\n",
    "all_temNw = np.concatenate([np.load(join(data_dir, 'w_%s_ex.npy'%(project_tag))), np.load(join(data_dir, 'w_%s_in.npy'%(project_tag)))])\n",
    "wmin, wmax = all_temNw.min(), all_temNw.max()\n",
    "abswmax = max(np.abs(wmin), np.abs(wmax))\n",
    "norm = mpl.colors.Normalize(vmin=-abswmax, vmax=abswmax)\n",
    "val2cmap = cm.ScalarMappable(norm=norm, cmap=cm.jet)\n",
    "\n",
    "# # Plot\n",
    "for exin_i, exintag in enumerate(['ex', 'in']):\n",
    "\n",
    "    # # Load and organize data\n",
    "    dataset = load_pickle(join(data_dir, 'data_train_test_ori_%s_%s.pickle'%(project_tag, exintag)))\n",
    "    temNw =  np.load(join(data_dir, 'w_%s_%s.npy'%(project_tag, exintag)))\n",
    "    simdata = load_pickle(join(simdata_dir, 'fig6_%s.pkl'%(exintag)))\n",
    "    preddata = load_pickle(join(data_dir, 'ACC_%s.pickle'%(exintag)))\n",
    "\n",
    "    X_test_ori = dataset['X_test_ori']\n",
    "    Y_test_ori = dataset['Y_test_ori']\n",
    "    trajtype_test_ori = dataset['trajtype_test_ori']\n",
    "    X_train_ori = dataset['X_train_ori']\n",
    "    Y_train_ori = dataset['Y_train_ori']\n",
    "    trajtype_train_ori = dataset['trajtype_train_ori']\n",
    "    theta_bounds = dataset['theta_bounds']\n",
    "    all_nidx = dataset['all_nidx']\n",
    "\n",
    "    N = len(X_train_ori[0])\n",
    "    num_trajtypes = trajtype_test_ori.max()+1\n",
    "    trajtype_ax = np.arange(num_trajtypes)\n",
    "    a_ax = trajtype_ax/num_trajtypes*2*np.pi\n",
    "    deg_ax = np.around(np.rad2deg(a_ax), 0).astype(int)\n",
    "\n",
    "    BehDF = simdata['BehDF']\n",
    "    NeuronDF = simdata['NeuronDF']\n",
    "    xxtun1d = NeuronDF['neuronx'].to_numpy()\n",
    "    yytun1d = NeuronDF['neurony'].to_numpy()\n",
    "    aatun1d = NeuronDF['neurona'].to_numpy()\n",
    "\n",
    "    # # Set up tempotron and run predictions\n",
    "    Vthresh = 2\n",
    "    temN_tax = np.arange(0, 100, 1)\n",
    "    temN = Tempotron(N=N, lr=0.01, Vthresh=Vthresh, tau=5, tau_s=5/4, w_seed=0)\n",
    "    temN.w = temNw\n",
    "    Y_train_ori_pred, koutori_train_ori, tspout_train_ori, kout_train_ori  = temN.predict(X_train_ori, temN_tax, shunt=True)\n",
    "    Y_test_ori_pred, koutori_test_ori, tspout_test_ori, kout_test_ori  = temN.predict(X_test_ori, temN_tax, shunt=True)\n",
    "\n",
    "    # # Plot training sequence (Ex+In) examples\n",
    "    yoffset = 20 if exintag=='in' else -20\n",
    "    yneurons = yytun1d[all_nidx]\n",
    "    idx_down = np.min(np.where(yneurons > yoffset)[0])\n",
    "    idx_up = idx_down + 20\n",
    "    tsp_yfixed = X_train_ori[:, idx_down:idx_up]\n",
    "    for yi in range(20):\n",
    "        tsp_train = np.concatenate([tsp_yfixed[mi, yi] + (mi * 100) for mi in range(tsp_yfixed.shape[0])])\n",
    "        ax_exinSeq[exin_i].scatter(tsp_train, [yi]*tsp_train.shape[0], s=1, lw=0.5, c='k', marker='|')\n",
    "    for thetai in range(0, 10):\n",
    "        ax_exinSeq[exin_i].axvline(thetai * 100, c='k', lw=0.1)\n",
    "    ax_exinSeq[exin_i].set_xlim(0, 400)\n",
    "    ax_exinSeq[exin_i].set_ylim(0, 20)\n",
    "    ax_exinSeq[exin_i].axis('off')\n",
    "\n",
    "    # # Plot Across-Y sequence example\n",
    "    if exintag == 'in':\n",
    "        chosen_cycle = 5\n",
    "        tsp_ally = np.concatenate(X_train_ori[chosen_cycle, :])\n",
    "        nidx_ally = np.concatenate([ np.ones(X_train_ori[chosen_cycle, yi].shape[0]) * yi for yi in range(N)])\n",
    "        ax_tem.scatter(tsp_ally, nidx_ally, s=1, lw=1, c='k', marker='|')\n",
    "        ysepN_ax = np.arange(0, 400, 20).astype(int)\n",
    "        ysep_ax = ysepN_ax -0.5\n",
    "        for ysep in ysep_ax:\n",
    "            ax_tem.axhline(ysep, color='gray', lw=0.1)\n",
    "\n",
    "        ax_tem.set_xlabel('Time (ms)')\n",
    "        ax_tem.set_xticks(np.arange(0, 61, 20))\n",
    "        ax_tem.set_xticks(np.arange(0, 61, 10), minor=True)\n",
    "        ax_tem.set_xlim(0, 60)\n",
    "        ax_tem.set_ylabel('y (cm)')\n",
    "        ax_tem.set_yticks(ysepN_ax + 10)\n",
    "        ax_tem.set_yticklabels(np.around(yytun1d[all_nidx[ysepN_ax+10]], 0).astype(int).astype(str))\n",
    "        ax_tem.set_ylim(120, 260)\n",
    "\n",
    "        ax_trace.plot(temN_tax, kout_train_ori[chosen_cycle], lw=0.5, color='k')\n",
    "        ax_trace.axhline(Vthresh, color='gray', lw=0.1)\n",
    "        ax_trace.eventplot([tspout_train_ori[chosen_cycle][0]], lineoffsets=2.2, linelengths=0.2, color='r', linewidths=4, zorder=3)\n",
    "        ax_trace.spines.left.set_visible(False)\n",
    "        ax_trace.set_xlabel('Time (ms)')\n",
    "        ax_trace.set_xticks(np.arange(0, 61, 20))\n",
    "        ax_trace.set_xticks(np.arange(0, 61, 10), minor=True)\n",
    "        ax_trace.set_xlim(0, 60)\n",
    "        ax_trace.set_yticks([])\n",
    "\n",
    "    # # Plot Accuracies, PTR and PNR\n",
    "    acc_color = 'rosybrown' if exintag == 'ex' else 'navy'\n",
    "    val_test, se_test = directional_acc_metrics(Y_test_ori, Y_test_ori_pred, trajtype_test_ori, num_trajtypes=num_trajtypes)\n",
    "    # ax_acc.errorbar(x=deg_ax, y=preddata['ACC_test'], yerr=preddata['ACCse_test'], color=acc_color, linewidth=0.1)\n",
    "    ax_acc.plot(deg_ax, preddata['firepercent_test'], color=acc_color)\n",
    "    # ax_tpr.errorbar(x=deg_ax, y=preddata['TPR_test'], yerr=preddata['TPRse_test'], color=acc_color, linewidth=0.1)\n",
    "    # ax_tnr.errorbar(x=deg_ax, y=preddata['TNR_test'], yerr=preddata['TNRse_test'], color=acc_color, linewidth=0.1)\n",
    "\n",
    "    # # Plot 2D Weights\n",
    "    im = ax_exinW2D[exin_i].scatter(xxtun1d[all_nidx], yytun1d[all_nidx], c=temNw, cmap=cm.jet, vmin=-abswmax, vmax=abswmax, s=0.5, lw=0.5)\n",
    "    ax_exinW2D[exin_i].set_xticks(np.arange(-10, 11, 10))\n",
    "    ax_exinW2D[exin_i].set_xticks(np.arange(-10, 11, 5), minor=True)\n",
    "    if exin_i == 0:  # extrinsic, bottom panel\n",
    "        ax_exinW2D[exin_i].set_xlabel('x (cm)')\n",
    "\n",
    "    if exin_i == 1:  # intrinsic, top panel\n",
    "        ax_exinW2D[exin_i].set_ylabel('y (cm)')\n",
    "        ax_exinW2D[exin_i].set_xticklabels([])\n",
    "        cbar = fig.colorbar(im, cax=ax_cbar)\n",
    "        cbar.ax.set_yticks([-0.06, 0, 0.06])\n",
    "        cbar.ax.set_yticklabels(['', '0', ''])\n",
    "\n",
    "\n",
    "    # # Plot 180 deg test traces for ex & in\n",
    "    traj_deg = 180\n",
    "    chosen_trajtype = trajtype_ax[deg_ax==traj_deg].squeeze()\n",
    "    mask = trajtype_test_ori == chosen_trajtype\n",
    "    X_test_chosen = X_test_ori[mask]\n",
    "    Y_test_chosen = Y_test_ori[mask]\n",
    "    Y_test_ori_pred_chosen = Y_test_ori_pred[mask]\n",
    "    kout_test_chosen = kout_test_ori[mask]\n",
    "    tspout_test_chosen = tspout_test_ori[mask]\n",
    "    plot_tempotron_traces(ax_exinRas[exin_i], ax_exinRasTrace[exin_i], ax_exinRasW1d[exin_i], N,\n",
    "                          X=X_test_chosen, Y=Y_test_chosen, temN_tax=temN_tax, temNw=temNw, Vthresh=Vthresh,\n",
    "                          all_nidx=all_nidx, yytun1d=yytun1d, kout_all=kout_test_chosen, tspout_all=tspout_test_chosen,\n",
    "                          val2cmap=val2cmap, exintag=exintag)\n",
    "ax_exRasTrace[5].set_xlabel('Time (ms)')\n",
    "\n",
    "# # Plot training trajectories outside the loop\n",
    "xxtun1dca3, yytun1dca3 = xxtun1d[NeuronDF['neurontype']=='CA3'], yytun1d[NeuronDF['neurontype']=='CA3']\n",
    "mos_actx = np.arange(-20, 21, 2)  # 0 degree\n",
    "mos_acty = np.zeros(mos_actx.shape[0]) + 20\n",
    "zzgauca3 = np.zeros((xxtun1dca3.shape[0], mos_actx.shape[0]))\n",
    "for mosi in range(mos_actx.shape[0]):\n",
    "    actx, acty = mos_actx[mosi], mos_acty[mosi]\n",
    "    zzgauca3[:, mosi] = np.exp(- ((xxtun1dca3-actx)**2 + (yytun1dca3-acty)**2)  / (2 * (2 ** 2)))\n",
    "zzgauca3 = np.max(zzgauca3, axis=1)\n",
    "ax_trainScheme.arrow(-20, 20, 40, 0, width=0.01, head_width=2, color='gray')\n",
    "ax_trainScheme.scatter((0, 0), (20, -20), c='k', s=8, lw=0.5, marker='x')\n",
    "ax_trainScheme.set_xlabel('x (cm)')\n",
    "ax_trainScheme.set_ylabel('y (cm)')\n",
    "\n",
    "# # Plot testing illustration (for drawing later)\n",
    "ax_testScheme.scatter(xxtun1d[all_nidx], yytun1d[all_nidx], c='0.9', s=0.5, lw=0.5)\n",
    "circ_t = np.linspace(0, 2*np.pi, 20)\n",
    "ax_testScheme.plot(2 * np.cos(circ_t), 2 * np.sin(circ_t)+20, c='k', lw=0.5)\n",
    "ax_testScheme.axis('off')\n",
    "\n",
    "for ax_each in [ax_trainScheme]:\n",
    "    ax_each.plot((-10, 10, 10, -10, -10), (30, 30, 10, 10, 30), linewidth=0.5, color='gray')   # In\n",
    "    ax_each.plot((-10, 10, 10, -10, -10), (-10, -10, -30, -30, -10), linewidth=0.5, color='gray')   # Ex\n",
    "    ax_each.set_xlim(-40, 40)\n",
    "    ax_each.set_ylim(-40, 40)\n",
    "    ax_each.set_xticks(np.arange(-40, 41, 20))\n",
    "    ax_each.set_xticklabels(['', '-20', '0', '20', ''])\n",
    "    ax_each.set_xticks(np.arange(-40, 41, 10), minor=True)\n",
    "    ax_each.set_yticks(np.arange(-40, 41, 20))\n",
    "    ax_each.set_yticklabels(['', '-20', '0', '20', ''])\n",
    "    ax_each.set_yticks(np.arange(-40, 41, 10), minor=True)\n",
    "for ax_i, ax_each in enumerate([ax_acc, ax_tpr, ax_tnr]):\n",
    "    ax_each.set_xticks([0, 180, 360])\n",
    "    ax_each.set_xticks([90, 270], minor=True)\n",
    "    ax_each.set_xticklabels(['0', '', '360'])\n",
    "    ax_each.set_yticks([0, 0.5, 1])\n",
    "    if ax_i < 2:\n",
    "        ax_each.set_xticklabels([])\n",
    "\n",
    "    ax_each.set_yticklabels(['0', '', '1'])\n",
    "    ax_each.set_yticks(np.arange(0, 1, 0.1), minor=True)\n",
    "    ax_each.set_ylim(-0.05, 1.05)\n",
    "ax_acc.set_ylabel('ACC')\n",
    "ax_tpr.set_ylabel('TPR')\n",
    "ax_tnr.set_ylabel('TNR')\n",
    "ax_tnr.set_xlabel(r'$\\varphi (\\circ)$')\n",
    "fig.savefig(join(plot_dir, 'fig6.png'), dpi=300)\n",
    "fig.savefig(join(plot_dir, 'fig6.pdf'))\n",
    "fig.savefig(join(plot_dir, 'fig6.eps'))\n",
    "fig"
   ],
   "metadata": {
    "collapsed": false,
    "pycharm": {
     "name": "#%%\n"
    }
   }
  },
  {
   "cell_type": "code",
   "execution_count": null,
   "outputs": [],
   "source": [],
   "metadata": {
    "collapsed": false,
    "pycharm": {
     "name": "#%%\n"
    }
   }
  },
  {
   "cell_type": "code",
   "execution_count": null,
   "outputs": [],
   "source": [],
   "metadata": {
    "collapsed": false,
    "pycharm": {
     "name": "#%%\n"
    }
   }
  },
  {
   "cell_type": "code",
   "execution_count": null,
   "outputs": [],
   "source": [],
   "metadata": {
    "collapsed": false,
    "pycharm": {
     "name": "#%%\n"
    }
   }
  }
 ],
 "metadata": {
  "kernelspec": {
   "display_name": "Python 3",
   "language": "python",
   "name": "python3"
  },
  "language_info": {
   "codemirror_mode": {
    "name": "ipython",
    "version": 3
   },
   "file_extension": ".py",
   "mimetype": "text/x-python",
   "name": "python",
   "nbconvert_exporter": "python",
   "pygments_lexer": "ipython3",
   "version": "3.8.5"
  }
 },
 "nbformat": 4,
 "nbformat_minor": 4
}