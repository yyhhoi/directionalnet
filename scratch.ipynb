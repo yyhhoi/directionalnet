{
 "cells": [
  {
   "cell_type": "code",
   "execution_count": 18,
   "metadata": {
    "collapsed": true
   },
   "outputs": [],
   "source": [
    "from pycircstat.descriptive import pairwise_cdiff, cdiff\n",
    "import numpy as np\n",
    "import matplotlib.pyplot as plt\n",
    "foo = np.random.normal(np.pi, np.pi/4, 1000)\n",
    "\n",
    "foo2 = pairwise_cdiff(foo)\n",
    "\n",
    "\n",
    "absdist = np.abs(foo2)\n",
    "\n"
   ]
  },
  {
   "cell_type": "code",
   "execution_count": 22,
   "outputs": [
    {
     "name": "stdout",
     "output_type": "stream",
     "text": [
      "[[3.14158772]]\n",
      "3.1415877197887574\n"
     ]
    }
   ],
   "source": [
    "maxid = np.argmax(absdist, keepdims=True)\n",
    "cid, rid = np.unravel_index(maxid, absdist.shape)\n",
    "maxval1 = foo[cid].squeeze()\n",
    "maxval2 = foo[rid].squeeze()\n",
    "print(cdiff(foo[cid], foo[rid]))\n",
    "print(np.max(absdist))"
   ],
   "metadata": {
    "collapsed": false
   }
  },
  {
   "cell_type": "code",
   "execution_count": 32,
   "outputs": [
    {
     "data": {
      "text/plain": "<matplotlib.collections.LineCollection at 0x209a26d6850>"
     },
     "execution_count": 32,
     "metadata": {},
     "output_type": "execute_result"
    },
    {
     "data": {
      "text/plain": "<Figure size 640x480 with 1 Axes>",
      "image/png": "[encoded data removed]"
     },
     "metadata": {},
     "output_type": "display_data"
    }
   ],
   "source": [
    "fig, ax = plt.subplots()\n",
    "_ = ax.hist(foo, bins=np.linspace(0, 2*np.pi, 100))\n",
    "\n",
    "ax.hlines(y=20, xmin=maxval1.item(), xmax=maxval2.item(), color='r', )"
   ],
   "metadata": {
    "collapsed": false
   }
  },
  {
   "cell_type": "code",
   "execution_count": 29,
   "outputs": [
    {
     "data": {
      "text/plain": "4.370047355507001"
     },
     "execution_count": 29,
     "metadata": {},
     "output_type": "execute_result"
    }
   ],
   "source": [
    "maxval2.item()"
   ],
   "metadata": {
    "collapsed": false
   }
  }
 ],
 "metadata": {
  "kernelspec": {
   "display_name": "Python 3",
   "language": "python",
   "name": "python3"
  },
  "language_info": {
   "codemirror_mode": {
    "name": "ipython",
    "version": 2
   },
   "file_extension": ".py",
   "mimetype": "text/x-python",
   "name": "python",
   "nbconvert_exporter": "python",
   "pygments_lexer": "ipython2",
   "version": "2.7.6"
  }
 },
 "nbformat": 4,
 "nbformat_minor": 0
}
